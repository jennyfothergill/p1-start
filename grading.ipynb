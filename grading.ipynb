{
 "cells": [
  {
   "cell_type": "markdown",
   "metadata": {},
   "source": [
    "# Project 1 grading "
   ]
  },
  {
   "cell_type": "code",
   "execution_count": null,
   "metadata": {},
   "outputs": [],
   "source": [
    "%%capture\n",
    "%%bash\n",
    "# These first two commands silence the output and tell the cell to use the bash interpreter\n",
    "\n",
    "# List all the forks of the mse150 repo and write it to a json file\n",
    "curl https://api.github.com/repos/mse150s20/p1-start/forks>forks.json\n",
    "    \n",
    "# delete the last line--we need to do this because the json file ends with \"]\"\n",
    "# This command would work on linux\n",
    "#sed -i '$d' forks.json\n",
    "# This command works on OSX\n",
    "sed -i '' -e '$ d' forks.json\n",
    "\n",
    "echo \",\" >> forks.json\n",
    "\n",
    "# also append forks of Eric's repo but leave out the first line , which contains \"[\"\n",
    "curl https://api.github.com/repos/erjank/p1-start/forks|tail -n+2>>forks.json"
   ]
  },
  {
   "cell_type": "code",
   "execution_count": null,
   "metadata": {},
   "outputs": [],
   "source": [
    "# we should see no \"][\"\n",
    "!tail -98 forks.json | head"
   ]
  },
  {
   "cell_type": "code",
   "execution_count": null,
   "metadata": {},
   "outputs": [],
   "source": [
    "import json"
   ]
  },
  {
   "cell_type": "code",
   "execution_count": null,
   "metadata": {},
   "outputs": [],
   "source": [
    "fname = \"forks.json\"\n",
    "with open(fname, \"r\") as f:\n",
    "    forks = json.load(f)"
   ]
  },
  {
   "cell_type": "code",
   "execution_count": null,
   "metadata": {},
   "outputs": [],
   "source": [
    "students = {}\n",
    "for fork in forks:\n",
    "    username = fork[\"owner\"][\"login\"]\n",
    "    if (username != \"jennyfothergill\" and username != \"erjank\"):\n",
    "        students[username] = fork[\"ssh_url\"]"
   ]
  },
  {
   "cell_type": "code",
   "execution_count": null,
   "metadata": {},
   "outputs": [],
   "source": [
    "print(students)"
   ]
  },
  {
   "cell_type": "code",
   "execution_count": null,
   "metadata": {},
   "outputs": [],
   "source": []
  },
  {
   "cell_type": "code",
   "execution_count": null,
   "metadata": {},
   "outputs": [],
   "source": [
    "fork[\"id\"]"
   ]
  },
  {
   "cell_type": "code",
   "execution_count": null,
   "metadata": {},
   "outputs": [],
   "source": []
  }
 ],
 "metadata": {
  "kernelspec": {
   "display_name": "Python 3",
   "language": "python",
   "name": "python3"
  },
  "language_info": {
   "codemirror_mode": {
    "name": "ipython",
    "version": 3
   },
   "file_extension": ".py",
   "mimetype": "text/x-python",
   "name": "python",
   "nbconvert_exporter": "python",
   "pygments_lexer": "ipython3",
   "version": "3.5.6"
  }
 },
 "nbformat": 4,
 "nbformat_minor": 4
}
