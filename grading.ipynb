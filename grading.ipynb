{
 "cells": [
  {
   "cell_type": "markdown",
   "metadata": {},
   "source": [
    "# Project 1 grading "
   ]
  },
  {
   "cell_type": "code",
   "execution_count": null,
   "metadata": {},
   "outputs": [],
   "source": [
    "%%capture\n",
    "%%bash\n",
    "# These first two commands silence the output and tell the cell to use the bash interpreter\n",
    "\n",
    "# List all the forks of the mse150 repo and write it to a json file\n",
    "curl https://api.github.com/repos/mse150s20/p1-start/forks>forks.json\n",
    "    \n",
    "# delete the last line--we need to do this because the json file ends with \"]\"\n",
    "# This command would work on linux\n",
    "#sed -i '$d' forks.json\n",
    "# This command works on OSX\n",
    "sed -i '' -e '$ d' forks.json\n",
    "\n",
    "echo \",\" >> forks.json\n",
    "\n",
    "# also append forks of Eric's repo but leave out the first line , which contains \"[\"\n",
    "curl https://api.github.com/repos/erjank/p1-start/forks|tail -n+2>>forks.json"
   ]
  },
  {
   "cell_type": "code",
   "execution_count": null,
   "metadata": {},
   "outputs": [],
   "source": [
    "# we should see no \"][\"\n",
    "!tail -98 forks.json | head"
   ]
  },
  {
   "cell_type": "code",
   "execution_count": 1,
   "metadata": {},
   "outputs": [],
   "source": [
    "import json\n",
    "import subprocess as sp"
   ]
  },
  {
   "cell_type": "code",
   "execution_count": 2,
   "metadata": {},
   "outputs": [],
   "source": [
    "fname = \"forks.json\"\n",
    "with open(fname, \"r\") as f:\n",
    "    forks = json.load(f)"
   ]
  },
  {
   "cell_type": "code",
   "execution_count": 3,
   "metadata": {},
   "outputs": [],
   "source": [
    "students = {}\n",
    "for fork in forks:\n",
    "    username = fork[\"owner\"][\"login\"]\n",
    "    if (username != \"jennyfothergill\" and username != \"erjank\"):\n",
    "        students[username] = fork[\"ssh_url\"]"
   ]
  },
  {
   "cell_type": "code",
   "execution_count": 10,
   "metadata": {},
   "outputs": [],
   "source": [
    "# add all remotes\n",
    "for student in students:\n",
    "    sp.call([\"git\", \"remote\", \"add\", student, students[student]])   "
   ]
  },
  {
   "cell_type": "code",
   "execution_count": 11,
   "metadata": {},
   "outputs": [
    {
     "data": {
      "text/plain": [
       "{'archive_url': 'https://api.github.com/repos/ddnguyen666/p1-start/{archive_format}{/ref}',\n",
       " 'archived': False,\n",
       " 'assignees_url': 'https://api.github.com/repos/ddnguyen666/p1-start/assignees{/user}',\n",
       " 'blobs_url': 'https://api.github.com/repos/ddnguyen666/p1-start/git/blobs{/sha}',\n",
       " 'branches_url': 'https://api.github.com/repos/ddnguyen666/p1-start/branches{/branch}',\n",
       " 'clone_url': 'https://github.com/ddnguyen666/p1-start.git',\n",
       " 'collaborators_url': 'https://api.github.com/repos/ddnguyen666/p1-start/collaborators{/collaborator}',\n",
       " 'comments_url': 'https://api.github.com/repos/ddnguyen666/p1-start/comments{/number}',\n",
       " 'commits_url': 'https://api.github.com/repos/ddnguyen666/p1-start/commits{/sha}',\n",
       " 'compare_url': 'https://api.github.com/repos/ddnguyen666/p1-start/compare/{base}...{head}',\n",
       " 'contents_url': 'https://api.github.com/repos/ddnguyen666/p1-start/contents/{+path}',\n",
       " 'contributors_url': 'https://api.github.com/repos/ddnguyen666/p1-start/contributors',\n",
       " 'created_at': '2020-03-09T15:56:42Z',\n",
       " 'default_branch': 'master',\n",
       " 'deployments_url': 'https://api.github.com/repos/ddnguyen666/p1-start/deployments',\n",
       " 'description': 'Starter code for Project 1 in Spring 2020.',\n",
       " 'disabled': False,\n",
       " 'downloads_url': 'https://api.github.com/repos/ddnguyen666/p1-start/downloads',\n",
       " 'events_url': 'https://api.github.com/repos/ddnguyen666/p1-start/events',\n",
       " 'fork': True,\n",
       " 'forks': 0,\n",
       " 'forks_count': 0,\n",
       " 'forks_url': 'https://api.github.com/repos/ddnguyen666/p1-start/forks',\n",
       " 'full_name': 'ddnguyen666/p1-start',\n",
       " 'git_commits_url': 'https://api.github.com/repos/ddnguyen666/p1-start/git/commits{/sha}',\n",
       " 'git_refs_url': 'https://api.github.com/repos/ddnguyen666/p1-start/git/refs{/sha}',\n",
       " 'git_tags_url': 'https://api.github.com/repos/ddnguyen666/p1-start/git/tags{/sha}',\n",
       " 'git_url': 'git://github.com/ddnguyen666/p1-start.git',\n",
       " 'has_downloads': True,\n",
       " 'has_issues': False,\n",
       " 'has_pages': False,\n",
       " 'has_projects': True,\n",
       " 'has_wiki': True,\n",
       " 'homepage': None,\n",
       " 'hooks_url': 'https://api.github.com/repos/ddnguyen666/p1-start/hooks',\n",
       " 'html_url': 'https://github.com/ddnguyen666/p1-start',\n",
       " 'id': 246079142,\n",
       " 'issue_comment_url': 'https://api.github.com/repos/ddnguyen666/p1-start/issues/comments{/number}',\n",
       " 'issue_events_url': 'https://api.github.com/repos/ddnguyen666/p1-start/issues/events{/number}',\n",
       " 'issues_url': 'https://api.github.com/repos/ddnguyen666/p1-start/issues{/number}',\n",
       " 'keys_url': 'https://api.github.com/repos/ddnguyen666/p1-start/keys{/key_id}',\n",
       " 'labels_url': 'https://api.github.com/repos/ddnguyen666/p1-start/labels{/name}',\n",
       " 'language': 'Python',\n",
       " 'languages_url': 'https://api.github.com/repos/ddnguyen666/p1-start/languages',\n",
       " 'license': None,\n",
       " 'merges_url': 'https://api.github.com/repos/ddnguyen666/p1-start/merges',\n",
       " 'milestones_url': 'https://api.github.com/repos/ddnguyen666/p1-start/milestones{/number}',\n",
       " 'mirror_url': None,\n",
       " 'name': 'p1-start',\n",
       " 'node_id': 'MDEwOlJlcG9zaXRvcnkyNDYwNzkxNDI=',\n",
       " 'notifications_url': 'https://api.github.com/repos/ddnguyen666/p1-start/notifications{?since,all,participating}',\n",
       " 'open_issues': 0,\n",
       " 'open_issues_count': 0,\n",
       " 'owner': {'avatar_url': 'https://avatars2.githubusercontent.com/u/61981792?v=4',\n",
       "  'events_url': 'https://api.github.com/users/ddnguyen666/events{/privacy}',\n",
       "  'followers_url': 'https://api.github.com/users/ddnguyen666/followers',\n",
       "  'following_url': 'https://api.github.com/users/ddnguyen666/following{/other_user}',\n",
       "  'gists_url': 'https://api.github.com/users/ddnguyen666/gists{/gist_id}',\n",
       "  'gravatar_id': '',\n",
       "  'html_url': 'https://github.com/ddnguyen666',\n",
       "  'id': 61981792,\n",
       "  'login': 'ddnguyen666',\n",
       "  'node_id': 'MDQ6VXNlcjYxOTgxNzky',\n",
       "  'organizations_url': 'https://api.github.com/users/ddnguyen666/orgs',\n",
       "  'received_events_url': 'https://api.github.com/users/ddnguyen666/received_events',\n",
       "  'repos_url': 'https://api.github.com/users/ddnguyen666/repos',\n",
       "  'site_admin': False,\n",
       "  'starred_url': 'https://api.github.com/users/ddnguyen666/starred{/owner}{/repo}',\n",
       "  'subscriptions_url': 'https://api.github.com/users/ddnguyen666/subscriptions',\n",
       "  'type': 'User',\n",
       "  'url': 'https://api.github.com/users/ddnguyen666'},\n",
       " 'private': False,\n",
       " 'pulls_url': 'https://api.github.com/repos/ddnguyen666/p1-start/pulls{/number}',\n",
       " 'pushed_at': '2020-03-09T17:51:04Z',\n",
       " 'releases_url': 'https://api.github.com/repos/ddnguyen666/p1-start/releases{/id}',\n",
       " 'size': 350,\n",
       " 'ssh_url': 'git@github.com:ddnguyen666/p1-start.git',\n",
       " 'stargazers_count': 0,\n",
       " 'stargazers_url': 'https://api.github.com/repos/ddnguyen666/p1-start/stargazers',\n",
       " 'statuses_url': 'https://api.github.com/repos/ddnguyen666/p1-start/statuses/{sha}',\n",
       " 'subscribers_url': 'https://api.github.com/repos/ddnguyen666/p1-start/subscribers',\n",
       " 'subscription_url': 'https://api.github.com/repos/ddnguyen666/p1-start/subscription',\n",
       " 'svn_url': 'https://github.com/ddnguyen666/p1-start',\n",
       " 'tags_url': 'https://api.github.com/repos/ddnguyen666/p1-start/tags',\n",
       " 'teams_url': 'https://api.github.com/repos/ddnguyen666/p1-start/teams',\n",
       " 'trees_url': 'https://api.github.com/repos/ddnguyen666/p1-start/git/trees{/sha}',\n",
       " 'updated_at': '2020-03-09T17:51:07Z',\n",
       " 'url': 'https://api.github.com/repos/ddnguyen666/p1-start',\n",
       " 'watchers': 0,\n",
       " 'watchers_count': 0}"
      ]
     },
     "execution_count": 11,
     "metadata": {},
     "output_type": "execute_result"
    }
   ],
   "source": [
    "fork"
   ]
  },
  {
   "cell_type": "code",
   "execution_count": null,
   "metadata": {},
   "outputs": [],
   "source": []
  },
  {
   "cell_type": "code",
   "execution_count": null,
   "metadata": {},
   "outputs": [],
   "source": []
  }
 ],
 "metadata": {
  "kernelspec": {
   "display_name": "Python 3",
   "language": "python",
   "name": "python3"
  },
  "language_info": {
   "codemirror_mode": {
    "name": "ipython",
    "version": 3
   },
   "file_extension": ".py",
   "mimetype": "text/x-python",
   "name": "python",
   "nbconvert_exporter": "python",
   "pygments_lexer": "ipython3",
   "version": "3.5.6"
  }
 },
 "nbformat": 4,
 "nbformat_minor": 4
}
